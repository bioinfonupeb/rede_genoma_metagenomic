{
 "cells": [
  {
   "cell_type": "markdown",
   "id": "6a13f0c6",
   "metadata": {
    "papermill": {
     "duration": 0.016433,
     "end_time": "2022-05-25T13:25:21.800761",
     "exception": false,
     "start_time": "2022-05-25T13:25:21.784328",
     "status": "completed"
    },
    "tags": []
   },
   "source": [
    "# Prepare data for Pipeline"
   ]
  },
  {
   "cell_type": "markdown",
   "id": "90793999",
   "metadata": {
    "papermill": {
     "duration": 0.009904,
     "end_time": "2022-05-25T13:25:21.821590",
     "exception": false,
     "start_time": "2022-05-25T13:25:21.811686",
     "status": "completed"
    },
    "tags": []
   },
   "source": [
    "## Setup and settings"
   ]
  },
  {
   "cell_type": "code",
   "execution_count": 1,
   "id": "64130c12",
   "metadata": {
    "ExecuteTime": {
     "end_time": "2022-05-25T10:45:49.091975Z",
     "start_time": "2022-05-25T10:45:31.197286Z"
    },
    "execution": {
     "iopub.execute_input": "2022-05-25T13:25:21.841648Z",
     "iopub.status.busy": "2022-05-25T13:25:21.841413Z",
     "iopub.status.idle": "2022-05-25T13:25:28.258351Z",
     "shell.execute_reply": "2022-05-25T13:25:28.257723Z"
    },
    "papermill": {
     "duration": 6.429106,
     "end_time": "2022-05-25T13:25:28.260209",
     "exception": false,
     "start_time": "2022-05-25T13:25:21.831103",
     "status": "completed"
    },
    "tags": []
   },
   "outputs": [],
   "source": [
    "# Importing packages\n",
    "import os\n",
    "from qiime2 import Artifact, Visualization\n",
    "from qiime2.plugins import demux\n",
    "\n",
    "from utils import *"
   ]
  },
  {
   "cell_type": "markdown",
   "id": "35ed5fe0",
   "metadata": {
    "papermill": {
     "duration": 0.00952,
     "end_time": "2022-05-25T13:25:28.278514",
     "exception": false,
     "start_time": "2022-05-25T13:25:28.268994",
     "status": "completed"
    },
    "tags": []
   },
   "source": [
    "### Receiving the parameters\n",
    "\n",
    "The following cell can receive parameters using the [papermill](https://papermill.readthedocs.io/en/latest/) tool."
   ]
  },
  {
   "cell_type": "code",
   "execution_count": 2,
   "id": "ab4a5739",
   "metadata": {
    "ExecuteTime": {
     "end_time": "2022-05-25T10:46:00.668911Z",
     "start_time": "2022-05-25T10:46:00.660921Z"
    },
    "execution": {
     "iopub.execute_input": "2022-05-25T13:25:28.313598Z",
     "iopub.status.busy": "2022-05-25T13:25:28.313427Z",
     "iopub.status.idle": "2022-05-25T13:25:28.317191Z",
     "shell.execute_reply": "2022-05-25T13:25:28.316759Z"
    },
    "papermill": {
     "duration": 0.012982,
     "end_time": "2022-05-25T13:25:28.318528",
     "exception": false,
     "start_time": "2022-05-25T13:25:28.305546",
     "status": "completed"
    },
    "tags": [
     "parameters"
    ]
   },
   "outputs": [],
   "source": [
    "experiment_name = 'jenneffer-vs-01'\n",
    "base_dir = os.path.join('/', 'home', 'lauro', 'nupeb', 'redemicro')\n",
    "manifest_file = os.path.join(base_dir, 'data', 'raw', 'manifest', 'not-hist-feces-manifest.csv')\n",
    "replace_files = False"
   ]
  },
  {
   "cell_type": "code",
   "execution_count": 3,
   "id": "80457247",
   "metadata": {
    "execution": {
     "iopub.execute_input": "2022-05-25T13:25:28.347632Z",
     "iopub.status.busy": "2022-05-25T13:25:28.347470Z",
     "iopub.status.idle": "2022-05-25T13:25:28.350608Z",
     "shell.execute_reply": "2022-05-25T13:25:28.350169Z"
    },
    "papermill": {
     "duration": 0.012496,
     "end_time": "2022-05-25T13:25:28.352000",
     "exception": false,
     "start_time": "2022-05-25T13:25:28.339504",
     "status": "completed"
    },
    "tags": [
     "injected-parameters"
    ]
   },
   "outputs": [],
   "source": [
    "# Parameters\n",
    "experiment_name = \"jenneffer-vs-01\"\n",
    "base_dir = \"/home/lauro/nupeb/redemicro\"\n",
    "manifest_file = (\n",
    "    \"/home/lauro/nupeb/redemicro/data/raw/manifest/not-hist-feces-manifest.csv\"\n",
    ")\n",
    "replace_files = False\n"
   ]
  },
  {
   "cell_type": "code",
   "execution_count": 4,
   "id": "01f26e8c",
   "metadata": {
    "execution": {
     "iopub.execute_input": "2022-05-25T13:25:28.380240Z",
     "iopub.status.busy": "2022-05-25T13:25:28.380088Z",
     "iopub.status.idle": "2022-05-25T13:25:28.384594Z",
     "shell.execute_reply": "2022-05-25T13:25:28.384143Z"
    },
    "papermill": {
     "duration": 0.014171,
     "end_time": "2022-05-25T13:25:28.386012",
     "exception": false,
     "start_time": "2022-05-25T13:25:28.371841",
     "status": "completed"
    },
    "tags": []
   },
   "outputs": [
    {
     "name": "stdout",
     "output_type": "stream",
     "text": [
      "jenneffer-vs-01\n",
      "/home/lauro/nupeb/redemicro\n",
      "/home/lauro/nupeb/redemicro/data/raw/manifest/not-hist-feces-manifest.csv\n",
      "False\n"
     ]
    }
   ],
   "source": [
    "print('\\n'.join((str(x) for x in (experiment_name, base_dir, manifest_file, replace_files))))"
   ]
  },
  {
   "cell_type": "markdown",
   "id": "45b5ae58",
   "metadata": {
    "papermill": {
     "duration": 0.007943,
     "end_time": "2022-05-25T13:25:28.416361",
     "exception": false,
     "start_time": "2022-05-25T13:25:28.408418",
     "status": "completed"
    },
    "tags": []
   },
   "source": [
    "### Defining names and paths"
   ]
  },
  {
   "cell_type": "code",
   "execution_count": 5,
   "id": "986603d0",
   "metadata": {
    "ExecuteTime": {
     "end_time": "2022-05-25T10:46:02.699383Z",
     "start_time": "2022-05-25T10:46:02.677602Z"
    },
    "execution": {
     "iopub.execute_input": "2022-05-25T13:25:28.433096Z",
     "iopub.status.busy": "2022-05-25T13:25:28.432951Z",
     "iopub.status.idle": "2022-05-25T13:25:28.436790Z",
     "shell.execute_reply": "2022-05-25T13:25:28.436348Z"
    },
    "papermill": {
     "duration": 0.013759,
     "end_time": "2022-05-25T13:25:28.438111",
     "exception": false,
     "start_time": "2022-05-25T13:25:28.424352",
     "status": "completed"
    },
    "tags": []
   },
   "outputs": [],
   "source": [
    "# Define the output folder path\n",
    "out_dir = os.path.join(base_dir, 'experiments', experiment_name, 'qiime-artifacts')\n",
    "\n",
    "# Create path if it not exist\n",
    "if not os.path.isdir(out_dir):\n",
    "    os.makedirs(out_dir)\n",
    "    print(f'New folder path created: {out_dir}')\n",
    "\n",
    "# Define the output artifact full path\n",
    "demux_file = os.path.join(out_dir, 'demux-paired.qza')\n",
    "demux_view = os.path.join(out_dir, 'demux-paired.qzv')"
   ]
  },
  {
   "cell_type": "markdown",
   "id": "3ea22d89",
   "metadata": {
    "papermill": {
     "duration": 0.008057,
     "end_time": "2022-05-25T13:25:28.454209",
     "exception": false,
     "start_time": "2022-05-25T13:25:28.446152",
     "status": "completed"
    },
    "tags": []
   },
   "source": [
    "## Step execution\n",
    "\n",
    "This Step import all `fastq` files in a **QIIME2 Artifact** object and save it to a new `qza` file of `SampleData[PairedEndSequencesWithQuality]`"
   ]
  },
  {
   "cell_type": "code",
   "execution_count": 6,
   "id": "a64f7169",
   "metadata": {
    "ExecuteTime": {
     "end_time": "2022-05-25T11:44:41.122350Z",
     "start_time": "2022-05-25T11:44:31.624769Z"
    },
    "execution": {
     "iopub.execute_input": "2022-05-25T13:25:28.471185Z",
     "iopub.status.busy": "2022-05-25T13:25:28.470977Z",
     "iopub.status.idle": "2022-05-25T13:25:36.412955Z",
     "shell.execute_reply": "2022-05-25T13:25:36.412354Z"
    },
    "papermill": {
     "duration": 7.95387,
     "end_time": "2022-05-25T13:25:36.416149",
     "exception": false,
     "start_time": "2022-05-25T13:25:28.462279",
     "status": "completed"
    },
    "tags": []
   },
   "outputs": [],
   "source": [
    "# If the demux file does not exist or if the old file will be replaced\n",
    "if not os.path.isfile(demux_file) or replace_files:\n",
    "    \n",
    "    # Import data and create an artifact object\n",
    "    artifact = Artifact.import_data(\n",
    "        'SampleData[PairedEndSequencesWithQuality]', \n",
    "        manifest_file, \n",
    "        view_type='PairedEndFastqManifestPhred33')\n",
    "    \n",
    "    # Save the artifact object to a new qza file\n",
    "    artifact.save(demux_file)\n",
    "\n",
    "else:\n",
    "    artifact = Artifact.load(demux_file)"
   ]
  },
  {
   "cell_type": "code",
   "execution_count": 7,
   "id": "081b7af3",
   "metadata": {
    "ExecuteTime": {
     "end_time": "2022-05-25T11:54:49.613088Z",
     "start_time": "2022-05-25T11:54:49.587801Z"
    },
    "execution": {
     "iopub.execute_input": "2022-05-25T13:25:36.494628Z",
     "iopub.status.busy": "2022-05-25T13:25:36.494428Z",
     "iopub.status.idle": "2022-05-25T13:25:36.509610Z",
     "shell.execute_reply": "2022-05-25T13:25:36.508820Z"
    },
    "papermill": {
     "duration": 0.078804,
     "end_time": "2022-05-25T13:25:36.511784",
     "exception": false,
     "start_time": "2022-05-25T13:25:36.432980",
     "status": "completed"
    },
    "tags": []
   },
   "outputs": [],
   "source": [
    "if not os.path.isfile(demux_view) or replace_files: \n",
    "    # Generate e visualization of the Artifact\n",
    "    demux_summary = demux.visualizers.summarize(artifact)\n",
    "\n",
    "    # Save a new visualization file based on the qza file\n",
    "    Visualization.save(demux_summary.visualization, filepath=demux_view)\n",
    "    \n",
    "    demux_view_obj = demux_summary.visualization\n",
    "else:\n",
    "    demux_view_obj = Visualization.load(demux_view)"
   ]
  },
  {
   "cell_type": "markdown",
   "id": "0650b375",
   "metadata": {
    "papermill": {
     "duration": 0.044022,
     "end_time": "2022-05-25T13:25:36.635482",
     "exception": false,
     "start_time": "2022-05-25T13:25:36.591460",
     "status": "completed"
    },
    "tags": []
   },
   "source": [
    "## Step report\n"
   ]
  },
  {
   "cell_type": "code",
   "execution_count": 8,
   "id": "c7e70b81",
   "metadata": {
    "execution": {
     "iopub.execute_input": "2022-05-25T13:25:36.720628Z",
     "iopub.status.busy": "2022-05-25T13:25:36.720387Z",
     "iopub.status.idle": "2022-05-25T13:25:36.724485Z",
     "shell.execute_reply": "2022-05-25T13:25:36.723996Z"
    },
    "papermill": {
     "duration": 0.044211,
     "end_time": "2022-05-25T13:25:36.726098",
     "exception": false,
     "start_time": "2022-05-25T13:25:36.681887",
     "status": "completed"
    },
    "tags": []
   },
   "outputs": [
    {
     "name": "stdout",
     "output_type": "stream",
     "text": [
      "<visualization: Visualization uuid: 05fa9d52-a564-47b2-b848-67dcdff84402>\n"
     ]
    }
   ],
   "source": [
    "print(demux_view_obj)"
   ]
  },
  {
   "cell_type": "code",
   "execution_count": 9,
   "id": "59213585",
   "metadata": {
    "ExecuteTime": {
     "end_time": "2022-05-25T11:54:51.708045Z",
     "start_time": "2022-05-25T11:54:51.702371Z"
    },
    "execution": {
     "iopub.execute_input": "2022-05-25T13:25:36.930141Z",
     "iopub.status.busy": "2022-05-25T13:25:36.929738Z",
     "iopub.status.idle": "2022-05-25T13:25:36.945007Z",
     "shell.execute_reply": "2022-05-25T13:25:36.944392Z"
    },
    "papermill": {
     "duration": 0.142331,
     "end_time": "2022-05-25T13:25:36.946638",
     "exception": false,
     "start_time": "2022-05-25T13:25:36.804307",
     "status": "completed"
    },
    "tags": []
   },
   "outputs": [
    {
     "data": {
      "text/html": [
       "<div><img onload=\"(function(div, url){\n",
       "if (typeof require !== 'undefined') {\n",
       "    var baseURL = require.toUrl('').split('/').slice(0, -2).join('/');\n",
       "} else {\n",
       "    var baseURL = JSON.parse(\n",
       "        document.getElementById('jupyter-config-data').innerHTML\n",
       "    ).baseUrl.slice(0, -1);\n",
       "}\n",
       "url = baseURL + url;\n",
       "fetch(url).then(function(res) {\n",
       "    if (res.status === 404) {\n",
       "        div.innerHTML = 'Install QIIME 2 Jupyter extension with:<br />' +\n",
       "                        '<code>jupyter serverextension enable --py qiime2' +\n",
       "                        ' --sys-prefix</code><br />then restart your server.' +\n",
       "                        '<br /><br />(Interactive output not available on ' +\n",
       "                        'static notebook viewer services like nbviewer.)';\n",
       "    } else if (res.status === 409) {\n",
       "        div.innerHTML = 'Visualization no longer in scope. Re-run this cell' +\n",
       "                        ' to see the visualization.';\n",
       "    } else if (res.ok) {\n",
       "        url = res.url;\n",
       "        div.innerHTML = '<iframe src=\\'' + url + '\\' style=\\'' +\n",
       "                        'width: 100%; height: 700px; border: 0;\\'>' +\n",
       "                        '</iframe><hr />Open in a: <a href=\\'' + url + '\\'' +\n",
       "                        ' target=\\'_blank\\'>new window</a>'\n",
       "    } else {\n",
       "        div.innerHTML = 'Something has gone wrong. Check notebook server for' +\n",
       "                        ' errors.';\n",
       "    }\n",
       "});\n",
       "})(this.parentElement, '/qiime2/redirect?location=/tmp/qiime2-archive-_jdz55hs')\" src=\"data:image/gif;base64,R0lGODlhAQABAIAAAP///wAAACH5BAEAAAAALAAAAAABAAEAAAICRAEAOw==\" /></div>"
      ],
      "text/plain": [
       "<visualization: Visualization uuid: 05fa9d52-a564-47b2-b848-67dcdff84402>"
      ]
     },
     "execution_count": 9,
     "metadata": {},
     "output_type": "execute_result"
    }
   ],
   "source": [
    "# Render Visualization\n",
    "demux_view_obj"
   ]
  }
 ],
 "metadata": {
  "celltoolbar": "Edit Metadata",
  "kernelspec": {
   "display_name": "Python 3 (ipykernel)",
   "language": "python",
   "name": "python3"
  },
  "language_info": {
   "codemirror_mode": {
    "name": "ipython",
    "version": 3
   },
   "file_extension": ".py",
   "mimetype": "text/x-python",
   "name": "python",
   "nbconvert_exporter": "python",
   "pygments_lexer": "ipython3",
   "version": "3.8.12"
  },
  "papermill": {
   "default_parameters": {},
   "duration": 19.900044,
   "end_time": "2022-05-25T13:25:40.605018",
   "environment_variables": {},
   "exception": null,
   "input_path": "/home/lauro/nupeb/redemicro/steps/step-01-prepare-data.ipynb",
   "output_path": "/home/lauro/nupeb/redemicro/experiments/jenneffer-vs-01/executed_steps/step-01-prepare-data.ipynb",
   "parameters": {
    "base_dir": "/home/lauro/nupeb/redemicro",
    "experiment_name": "jenneffer-vs-01",
    "manifest_file": "/home/lauro/nupeb/redemicro/data/raw/manifest/not-hist-feces-manifest.csv",
    "replace_files": false
   },
   "start_time": "2022-05-25T13:25:20.704974",
   "version": "2.3.4"
  },
  "toc-autonumbering": false,
  "toc-showcode": false,
  "toc-showmarkdowntxt": false
 },
 "nbformat": 4,
 "nbformat_minor": 5
}